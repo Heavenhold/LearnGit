{
 "cells": [
  {
   "cell_type": "code",
   "execution_count": null,
   "metadata": {},
   "outputs": [],
   "source": [
    "Git bash.exe             //主程序（类似命令行，用cd跳文件，pwd看位置，用ls/dir看文件夹）\n",
    "\n",
    "git init                 //创建仓库\n",
    "\n",
    "git add <filename>         //添加文件给仓库\n",
    "\n",
    "git commit -m \"message\"  //提交文件给仓库（附带提交信息）\n",
    "\n",
    "git status               //查看仓库状态（看什么地方有无修改）\n",
    "\n",
    "git diff <filename>        //查看文件修改了什么\n",
    "\n",
    "git log                  //查看日志（近三次的修改及留言）加--pretty=oneline可以每次修改只显示一行\n",
    "\n",
    "git reset --hard HEAD^   //还原为上一个版本（HEAD^表示1个，HEAD^^表示2个，HEAD~100表示100个）\n",
    "//如果HEAD^可以换成版本号，换成跳回去之前的版本号相当于变回还原前，HEAD相当于指针\n",
    "\n",
    "git reflog                //查看修改日志"
   ]
  }
 ],
 "metadata": {
  "language_info": {
   "name": "python"
  },
  "orig_nbformat": 4
 },
 "nbformat": 4,
 "nbformat_minor": 2
}
